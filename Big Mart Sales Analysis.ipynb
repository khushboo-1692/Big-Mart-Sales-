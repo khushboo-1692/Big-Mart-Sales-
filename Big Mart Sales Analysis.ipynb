{
 "cells": [
  {
   "cell_type": "code",
   "execution_count": 153,
   "metadata": {},
   "outputs": [],
   "source": [
    "import numpy as np\n",
    "import pandas as pd\n",
    "import matplotlib.pyplot as plt\n",
    "import seaborn as sns\n",
    "import scipy.stats as mode\n",
    "from sklearn import metrics\n",
    "from sklearn.model_selection import train_test_split\n",
    "from sklearn.preprocessing import LabelEncoder, StandardScaler\n",
    "from sklearn.ensemble import RandomForestRegressor, GradientBoostingRegressor\n",
    "from sklearn.linear_model import LinearRegression, Ridge\n",
    "from sklearn.tree import DecisionTreeRegressor\n",
    "import xgboost as xgb\n",
    "\n",
    "# Setting a figure size of all the graphs at first\n",
    "plt.rcParams['figure.figsize'] = 12,8\n",
    "plt.style.use('ggplot')\n",
    "\n",
    "# Disabling warnings\n",
    "import warnings\n",
    "warnings.filterwarnings('ignore')"
   ]
  },
  {
   "cell_type": "code",
   "execution_count": 154,
   "metadata": {},
   "outputs": [],
   "source": [
    "df_train = pd.read_csv('train_bigmart.csv')\n",
    "df_test = pd.read_csv('test_bigmart.csv')\n",
    "submission = pd.read_csv('sample_submission_8RXa3c6.csv')"
   ]
  },
  {
   "cell_type": "code",
   "execution_count": 155,
   "metadata": {},
   "outputs": [
    {
     "name": "stdout",
     "output_type": "stream",
     "text": [
      "Train set shape :  (8523, 12)\n",
      "Test set shape :  (5681, 11)\n"
     ]
    }
   ],
   "source": [
    "print('Train set shape : ', df_train.shape)\n",
    "print('Test set shape : ', df_test.shape)"
   ]
  },
  {
   "cell_type": "code",
   "execution_count": 89,
   "metadata": {},
   "outputs": [
    {
     "data": {
      "text/html": [
       "<div>\n",
       "<style scoped>\n",
       "    .dataframe tbody tr th:only-of-type {\n",
       "        vertical-align: middle;\n",
       "    }\n",
       "\n",
       "    .dataframe tbody tr th {\n",
       "        vertical-align: top;\n",
       "    }\n",
       "\n",
       "    .dataframe thead th {\n",
       "        text-align: right;\n",
       "    }\n",
       "</style>\n",
       "<table border=\"1\" class=\"dataframe\">\n",
       "  <thead>\n",
       "    <tr style=\"text-align: right;\">\n",
       "      <th></th>\n",
       "      <th>Item_Identifier</th>\n",
       "      <th>Item_Weight</th>\n",
       "      <th>Item_Fat_Content</th>\n",
       "      <th>Item_Visibility</th>\n",
       "      <th>Item_Type</th>\n",
       "      <th>Item_MRP</th>\n",
       "      <th>Outlet_Identifier</th>\n",
       "      <th>Outlet_Establishment_Year</th>\n",
       "      <th>Outlet_Size</th>\n",
       "      <th>Outlet_Location_Type</th>\n",
       "      <th>Outlet_Type</th>\n",
       "      <th>Item_Outlet_Sales</th>\n",
       "    </tr>\n",
       "  </thead>\n",
       "  <tbody>\n",
       "    <tr>\n",
       "      <td>0</td>\n",
       "      <td>FDA15</td>\n",
       "      <td>9.30</td>\n",
       "      <td>Low Fat</td>\n",
       "      <td>0.016047</td>\n",
       "      <td>Dairy</td>\n",
       "      <td>249.8092</td>\n",
       "      <td>OUT049</td>\n",
       "      <td>1999</td>\n",
       "      <td>Medium</td>\n",
       "      <td>Tier 1</td>\n",
       "      <td>Supermarket Type1</td>\n",
       "      <td>3735.1380</td>\n",
       "    </tr>\n",
       "    <tr>\n",
       "      <td>1</td>\n",
       "      <td>DRC01</td>\n",
       "      <td>5.92</td>\n",
       "      <td>Regular</td>\n",
       "      <td>0.019278</td>\n",
       "      <td>Soft Drinks</td>\n",
       "      <td>48.2692</td>\n",
       "      <td>OUT018</td>\n",
       "      <td>2009</td>\n",
       "      <td>Medium</td>\n",
       "      <td>Tier 3</td>\n",
       "      <td>Supermarket Type2</td>\n",
       "      <td>443.4228</td>\n",
       "    </tr>\n",
       "    <tr>\n",
       "      <td>2</td>\n",
       "      <td>FDN15</td>\n",
       "      <td>17.50</td>\n",
       "      <td>Low Fat</td>\n",
       "      <td>0.016760</td>\n",
       "      <td>Meat</td>\n",
       "      <td>141.6180</td>\n",
       "      <td>OUT049</td>\n",
       "      <td>1999</td>\n",
       "      <td>Medium</td>\n",
       "      <td>Tier 1</td>\n",
       "      <td>Supermarket Type1</td>\n",
       "      <td>2097.2700</td>\n",
       "    </tr>\n",
       "    <tr>\n",
       "      <td>3</td>\n",
       "      <td>FDX07</td>\n",
       "      <td>19.20</td>\n",
       "      <td>Regular</td>\n",
       "      <td>0.000000</td>\n",
       "      <td>Fruits and Vegetables</td>\n",
       "      <td>182.0950</td>\n",
       "      <td>OUT010</td>\n",
       "      <td>1998</td>\n",
       "      <td>NaN</td>\n",
       "      <td>Tier 3</td>\n",
       "      <td>Grocery Store</td>\n",
       "      <td>732.3800</td>\n",
       "    </tr>\n",
       "  </tbody>\n",
       "</table>\n",
       "</div>"
      ],
      "text/plain": [
       "  Item_Identifier  Item_Weight Item_Fat_Content  Item_Visibility  \\\n",
       "0           FDA15         9.30          Low Fat         0.016047   \n",
       "1           DRC01         5.92          Regular         0.019278   \n",
       "2           FDN15        17.50          Low Fat         0.016760   \n",
       "3           FDX07        19.20          Regular         0.000000   \n",
       "\n",
       "               Item_Type  Item_MRP Outlet_Identifier  \\\n",
       "0                  Dairy  249.8092            OUT049   \n",
       "1            Soft Drinks   48.2692            OUT018   \n",
       "2                   Meat  141.6180            OUT049   \n",
       "3  Fruits and Vegetables  182.0950            OUT010   \n",
       "\n",
       "   Outlet_Establishment_Year Outlet_Size Outlet_Location_Type  \\\n",
       "0                       1999      Medium               Tier 1   \n",
       "1                       2009      Medium               Tier 3   \n",
       "2                       1999      Medium               Tier 1   \n",
       "3                       1998         NaN               Tier 3   \n",
       "\n",
       "         Outlet_Type  Item_Outlet_Sales  \n",
       "0  Supermarket Type1          3735.1380  \n",
       "1  Supermarket Type2           443.4228  \n",
       "2  Supermarket Type1          2097.2700  \n",
       "3      Grocery Store           732.3800  "
      ]
     },
     "execution_count": 89,
     "metadata": {},
     "output_type": "execute_result"
    }
   ],
   "source": [
    "df_train.head(4)"
   ]
  },
  {
   "cell_type": "markdown",
   "metadata": {},
   "source": [
    "From the first look at the data, I assume the variables that will have higher impact on the Outlet sales are: \n",
    "``Item_Visibility`` , ``Item_Type`` , ``OutletSize`` , ``Outlet_Location_Type`` , ``Outlet_Type``.\n",
    "\n",
    "\n",
    "The target variable is ``Item_Outlet_Sales`` ."
   ]
  },
  {
   "cell_type": "markdown",
   "metadata": {},
   "source": [
    "## Exploratory Data Analysis"
   ]
  },
  {
   "cell_type": "code",
   "execution_count": 90,
   "metadata": {},
   "outputs": [
    {
     "data": {
      "text/html": [
       "<div>\n",
       "<style scoped>\n",
       "    .dataframe tbody tr th:only-of-type {\n",
       "        vertical-align: middle;\n",
       "    }\n",
       "\n",
       "    .dataframe tbody tr th {\n",
       "        vertical-align: top;\n",
       "    }\n",
       "\n",
       "    .dataframe thead th {\n",
       "        text-align: right;\n",
       "    }\n",
       "</style>\n",
       "<table border=\"1\" class=\"dataframe\">\n",
       "  <thead>\n",
       "    <tr style=\"text-align: right;\">\n",
       "      <th></th>\n",
       "      <th>Item_Weight</th>\n",
       "      <th>Item_Visibility</th>\n",
       "      <th>Item_MRP</th>\n",
       "      <th>Outlet_Establishment_Year</th>\n",
       "      <th>Item_Outlet_Sales</th>\n",
       "    </tr>\n",
       "  </thead>\n",
       "  <tbody>\n",
       "    <tr>\n",
       "      <td>count</td>\n",
       "      <td>7060.000000</td>\n",
       "      <td>8523.000000</td>\n",
       "      <td>8523.000000</td>\n",
       "      <td>8523.000000</td>\n",
       "      <td>8523.000000</td>\n",
       "    </tr>\n",
       "    <tr>\n",
       "      <td>mean</td>\n",
       "      <td>12.857645</td>\n",
       "      <td>0.066132</td>\n",
       "      <td>140.992782</td>\n",
       "      <td>1997.831867</td>\n",
       "      <td>2181.288914</td>\n",
       "    </tr>\n",
       "    <tr>\n",
       "      <td>std</td>\n",
       "      <td>4.643456</td>\n",
       "      <td>0.051598</td>\n",
       "      <td>62.275067</td>\n",
       "      <td>8.371760</td>\n",
       "      <td>1706.499616</td>\n",
       "    </tr>\n",
       "    <tr>\n",
       "      <td>min</td>\n",
       "      <td>4.555000</td>\n",
       "      <td>0.000000</td>\n",
       "      <td>31.290000</td>\n",
       "      <td>1985.000000</td>\n",
       "      <td>33.290000</td>\n",
       "    </tr>\n",
       "    <tr>\n",
       "      <td>25%</td>\n",
       "      <td>8.773750</td>\n",
       "      <td>0.026989</td>\n",
       "      <td>93.826500</td>\n",
       "      <td>1987.000000</td>\n",
       "      <td>834.247400</td>\n",
       "    </tr>\n",
       "    <tr>\n",
       "      <td>50%</td>\n",
       "      <td>12.600000</td>\n",
       "      <td>0.053931</td>\n",
       "      <td>143.012800</td>\n",
       "      <td>1999.000000</td>\n",
       "      <td>1794.331000</td>\n",
       "    </tr>\n",
       "    <tr>\n",
       "      <td>75%</td>\n",
       "      <td>16.850000</td>\n",
       "      <td>0.094585</td>\n",
       "      <td>185.643700</td>\n",
       "      <td>2004.000000</td>\n",
       "      <td>3101.296400</td>\n",
       "    </tr>\n",
       "    <tr>\n",
       "      <td>max</td>\n",
       "      <td>21.350000</td>\n",
       "      <td>0.328391</td>\n",
       "      <td>266.888400</td>\n",
       "      <td>2009.000000</td>\n",
       "      <td>13086.964800</td>\n",
       "    </tr>\n",
       "  </tbody>\n",
       "</table>\n",
       "</div>"
      ],
      "text/plain": [
       "       Item_Weight  Item_Visibility     Item_MRP  Outlet_Establishment_Year  \\\n",
       "count  7060.000000      8523.000000  8523.000000                8523.000000   \n",
       "mean     12.857645         0.066132   140.992782                1997.831867   \n",
       "std       4.643456         0.051598    62.275067                   8.371760   \n",
       "min       4.555000         0.000000    31.290000                1985.000000   \n",
       "25%       8.773750         0.026989    93.826500                1987.000000   \n",
       "50%      12.600000         0.053931   143.012800                1999.000000   \n",
       "75%      16.850000         0.094585   185.643700                2004.000000   \n",
       "max      21.350000         0.328391   266.888400                2009.000000   \n",
       "\n",
       "       Item_Outlet_Sales  \n",
       "count        8523.000000  \n",
       "mean         2181.288914  \n",
       "std          1706.499616  \n",
       "min            33.290000  \n",
       "25%           834.247400  \n",
       "50%          1794.331000  \n",
       "75%          3101.296400  \n",
       "max         13086.964800  "
      ]
     },
     "execution_count": 90,
     "metadata": {},
     "output_type": "execute_result"
    }
   ],
   "source": [
    "df_train.describe()"
   ]
  },
  {
   "cell_type": "markdown",
   "metadata": {},
   "source": [
    "#### Few observations we can make from here are:\n",
    "\n",
    "1. The very first outlet was established in year 1985 & the latest was in 2009\n",
    "\n",
    "2. The item has atleat a weight of 4lbs with the maximum going up to 21lbs\n",
    "\n",
    "3. Visibility of any time cannot '0' as we can see here, there would be some manipulation happening here in this column\n",
    "\n",
    "4. The average sales of all the outlet is 2181 and the overall sales ranges from - 33 to 13086 dollars\n"
   ]
  },
  {
   "cell_type": "code",
   "execution_count": 91,
   "metadata": {},
   "outputs": [
    {
     "name": "stdout",
     "output_type": "stream",
     "text": [
      "<class 'pandas.core.frame.DataFrame'>\n",
      "RangeIndex: 8523 entries, 0 to 8522\n",
      "Data columns (total 12 columns):\n",
      "Item_Identifier              8523 non-null object\n",
      "Item_Weight                  7060 non-null float64\n",
      "Item_Fat_Content             8523 non-null object\n",
      "Item_Visibility              8523 non-null float64\n",
      "Item_Type                    8523 non-null object\n",
      "Item_MRP                     8523 non-null float64\n",
      "Outlet_Identifier            8523 non-null object\n",
      "Outlet_Establishment_Year    8523 non-null int64\n",
      "Outlet_Size                  6113 non-null object\n",
      "Outlet_Location_Type         8523 non-null object\n",
      "Outlet_Type                  8523 non-null object\n",
      "Item_Outlet_Sales            8523 non-null float64\n",
      "dtypes: float64(4), int64(1), object(7)\n",
      "memory usage: 799.2+ KB\n"
     ]
    }
   ],
   "source": [
    "df_train.info()"
   ]
  },
  {
   "cell_type": "markdown",
   "metadata": {},
   "source": [
    "There are total 7 categoical columns & few missing values which can be delt with a little later"
   ]
  },
  {
   "cell_type": "code",
   "execution_count": 92,
   "metadata": {},
   "outputs": [
    {
     "data": {
      "text/html": [
       "<style  type=\"text/css\" >\n",
       "    #T_f2bebba8_9fec_11ea_92ec_34e6ad2aaacarow0_col0 {\n",
       "            background-color:  #f7fcfd;\n",
       "            color:  #000000;\n",
       "        }    #T_f2bebba8_9fec_11ea_92ec_34e6ad2aaacarow0_col1 {\n",
       "            background-color:  #f7fcfd;\n",
       "            color:  #000000;\n",
       "        }    #T_f2bebba8_9fec_11ea_92ec_34e6ad2aaacarow1_col0 {\n",
       "            background-color:  #4d004b;\n",
       "            color:  #f1f1f1;\n",
       "        }    #T_f2bebba8_9fec_11ea_92ec_34e6ad2aaacarow1_col1 {\n",
       "            background-color:  #4d004b;\n",
       "            color:  #f1f1f1;\n",
       "        }    #T_f2bebba8_9fec_11ea_92ec_34e6ad2aaacarow2_col0 {\n",
       "            background-color:  #760c71;\n",
       "            color:  #f1f1f1;\n",
       "        }    #T_f2bebba8_9fec_11ea_92ec_34e6ad2aaacarow2_col1 {\n",
       "            background-color:  #c7d9e9;\n",
       "            color:  #000000;\n",
       "        }</style><table id=\"T_f2bebba8_9fec_11ea_92ec_34e6ad2aaaca\" ><thead>    <tr>        <th class=\"blank level0\" ></th>        <th class=\"col_heading level0 col0\" >Item_Outlet_Sales</th>        <th class=\"col_heading level0 col1\" >Item_MRP</th>    </tr>    <tr>        <th class=\"index_name level0\" >Outlet_Location_Type</th>        <th class=\"blank\" ></th>        <th class=\"blank\" ></th>    </tr></thead><tbody>\n",
       "                <tr>\n",
       "                        <th id=\"T_f2bebba8_9fec_11ea_92ec_34e6ad2aaacalevel0_row0\" class=\"row_heading level0 row0\" >Tier 1</th>\n",
       "                        <td id=\"T_f2bebba8_9fec_11ea_92ec_34e6ad2aaacarow0_col0\" class=\"data row0 col0\" >1876.91</td>\n",
       "                        <td id=\"T_f2bebba8_9fec_11ea_92ec_34e6ad2aaacarow0_col1\" class=\"data row0 col1\" >140.87</td>\n",
       "            </tr>\n",
       "            <tr>\n",
       "                        <th id=\"T_f2bebba8_9fec_11ea_92ec_34e6ad2aaacalevel0_row1\" class=\"row_heading level0 row1\" >Tier 2</th>\n",
       "                        <td id=\"T_f2bebba8_9fec_11ea_92ec_34e6ad2aaacarow1_col0\" class=\"data row1 col0\" >2323.99</td>\n",
       "                        <td id=\"T_f2bebba8_9fec_11ea_92ec_34e6ad2aaacarow1_col1\" class=\"data row1 col1\" >141.167</td>\n",
       "            </tr>\n",
       "            <tr>\n",
       "                        <th id=\"T_f2bebba8_9fec_11ea_92ec_34e6ad2aaacalevel0_row2\" class=\"row_heading level0 row2\" >Tier 3</th>\n",
       "                        <td id=\"T_f2bebba8_9fec_11ea_92ec_34e6ad2aaacarow2_col0\" class=\"data row2 col0\" >2279.63</td>\n",
       "                        <td id=\"T_f2bebba8_9fec_11ea_92ec_34e6ad2aaacarow2_col1\" class=\"data row2 col1\" >140.935</td>\n",
       "            </tr>\n",
       "    </tbody></table>"
      ],
      "text/plain": [
       "<pandas.io.formats.style.Styler at 0x1fcaec86c88>"
      ]
     },
     "execution_count": 92,
     "metadata": {},
     "output_type": "execute_result"
    }
   ],
   "source": [
    "t = df_train.groupby(['Outlet_Location_Type'])['Item_Outlet_Sales', 'Item_MRP'].mean()\n",
    "t.style.background_gradient(cmap = 'BuPu')"
   ]
  },
  {
   "cell_type": "code",
   "execution_count": 93,
   "metadata": {},
   "outputs": [
    {
     "name": "stdout",
     "output_type": "stream",
     "text": [
      "Tier 1 contains 2388 rows\n",
      "Tier 2 contains 2785 rows\n",
      "Tier 3 contains 3350 rows\n"
     ]
    }
   ],
   "source": [
    "ob = df_train.groupby('Outlet_Location_Type')\n",
    "\n",
    "for name,group in ob:\n",
    "    print(name, 'contains', group.shape[0], 'rows')"
   ]
  },
  {
   "cell_type": "code",
   "execution_count": 94,
   "metadata": {},
   "outputs": [
    {
     "data": {
      "text/html": [
       "<div>\n",
       "<style scoped>\n",
       "    .dataframe tbody tr th:only-of-type {\n",
       "        vertical-align: middle;\n",
       "    }\n",
       "\n",
       "    .dataframe tbody tr th {\n",
       "        vertical-align: top;\n",
       "    }\n",
       "\n",
       "    .dataframe thead th {\n",
       "        text-align: right;\n",
       "    }\n",
       "</style>\n",
       "<table border=\"1\" class=\"dataframe\">\n",
       "  <thead>\n",
       "    <tr style=\"text-align: right;\">\n",
       "      <th></th>\n",
       "      <th>Item_Identifier</th>\n",
       "      <th>Item_Weight</th>\n",
       "      <th>Item_Fat_Content</th>\n",
       "      <th>Item_Visibility</th>\n",
       "      <th>Item_Type</th>\n",
       "      <th>Item_MRP</th>\n",
       "      <th>Outlet_Identifier</th>\n",
       "      <th>Outlet_Establishment_Year</th>\n",
       "      <th>Outlet_Size</th>\n",
       "      <th>Outlet_Location_Type</th>\n",
       "      <th>Outlet_Type</th>\n",
       "      <th>Item_Outlet_Sales</th>\n",
       "    </tr>\n",
       "  </thead>\n",
       "  <tbody>\n",
       "    <tr>\n",
       "      <td>8</td>\n",
       "      <td>FDH17</td>\n",
       "      <td>16.200</td>\n",
       "      <td>Regular</td>\n",
       "      <td>0.016687</td>\n",
       "      <td>Frozen Foods</td>\n",
       "      <td>96.9726</td>\n",
       "      <td>OUT045</td>\n",
       "      <td>2002</td>\n",
       "      <td>NaN</td>\n",
       "      <td>Tier 2</td>\n",
       "      <td>Supermarket Type1</td>\n",
       "      <td>1076.5986</td>\n",
       "    </tr>\n",
       "    <tr>\n",
       "      <td>9</td>\n",
       "      <td>FDU28</td>\n",
       "      <td>19.200</td>\n",
       "      <td>Regular</td>\n",
       "      <td>0.094450</td>\n",
       "      <td>Frozen Foods</td>\n",
       "      <td>187.8214</td>\n",
       "      <td>OUT017</td>\n",
       "      <td>2007</td>\n",
       "      <td>NaN</td>\n",
       "      <td>Tier 2</td>\n",
       "      <td>Supermarket Type1</td>\n",
       "      <td>4710.5350</td>\n",
       "    </tr>\n",
       "    <tr>\n",
       "      <td>19</td>\n",
       "      <td>FDU02</td>\n",
       "      <td>13.350</td>\n",
       "      <td>Low Fat</td>\n",
       "      <td>0.102492</td>\n",
       "      <td>Dairy</td>\n",
       "      <td>230.5352</td>\n",
       "      <td>OUT035</td>\n",
       "      <td>2004</td>\n",
       "      <td>Small</td>\n",
       "      <td>Tier 2</td>\n",
       "      <td>Supermarket Type1</td>\n",
       "      <td>2748.4224</td>\n",
       "    </tr>\n",
       "    <tr>\n",
       "      <td>22</td>\n",
       "      <td>NCB30</td>\n",
       "      <td>14.600</td>\n",
       "      <td>Low Fat</td>\n",
       "      <td>0.025698</td>\n",
       "      <td>Household</td>\n",
       "      <td>196.5084</td>\n",
       "      <td>OUT035</td>\n",
       "      <td>2004</td>\n",
       "      <td>Small</td>\n",
       "      <td>Tier 2</td>\n",
       "      <td>Supermarket Type1</td>\n",
       "      <td>1587.2672</td>\n",
       "    </tr>\n",
       "    <tr>\n",
       "      <td>25</td>\n",
       "      <td>NCD06</td>\n",
       "      <td>13.000</td>\n",
       "      <td>Low Fat</td>\n",
       "      <td>0.099887</td>\n",
       "      <td>Household</td>\n",
       "      <td>45.9060</td>\n",
       "      <td>OUT017</td>\n",
       "      <td>2007</td>\n",
       "      <td>NaN</td>\n",
       "      <td>Tier 2</td>\n",
       "      <td>Supermarket Type1</td>\n",
       "      <td>838.9080</td>\n",
       "    </tr>\n",
       "    <tr>\n",
       "      <td>26</td>\n",
       "      <td>FDV10</td>\n",
       "      <td>7.645</td>\n",
       "      <td>Regular</td>\n",
       "      <td>0.066693</td>\n",
       "      <td>Snack Foods</td>\n",
       "      <td>42.3112</td>\n",
       "      <td>OUT035</td>\n",
       "      <td>2004</td>\n",
       "      <td>Small</td>\n",
       "      <td>Tier 2</td>\n",
       "      <td>Supermarket Type1</td>\n",
       "      <td>1065.2800</td>\n",
       "    </tr>\n",
       "    <tr>\n",
       "      <td>33</td>\n",
       "      <td>FDO23</td>\n",
       "      <td>17.850</td>\n",
       "      <td>Low Fat</td>\n",
       "      <td>0.000000</td>\n",
       "      <td>Breads</td>\n",
       "      <td>93.1436</td>\n",
       "      <td>OUT045</td>\n",
       "      <td>2002</td>\n",
       "      <td>NaN</td>\n",
       "      <td>Tier 2</td>\n",
       "      <td>Supermarket Type1</td>\n",
       "      <td>2174.5028</td>\n",
       "    </tr>\n",
       "    <tr>\n",
       "      <td>46</td>\n",
       "      <td>NCP05</td>\n",
       "      <td>19.600</td>\n",
       "      <td>Low Fat</td>\n",
       "      <td>0.000000</td>\n",
       "      <td>Health and Hygiene</td>\n",
       "      <td>153.3024</td>\n",
       "      <td>OUT045</td>\n",
       "      <td>2002</td>\n",
       "      <td>NaN</td>\n",
       "      <td>Tier 2</td>\n",
       "      <td>Supermarket Type1</td>\n",
       "      <td>2428.8384</td>\n",
       "    </tr>\n",
       "    <tr>\n",
       "      <td>47</td>\n",
       "      <td>FDV49</td>\n",
       "      <td>10.000</td>\n",
       "      <td>Low Fat</td>\n",
       "      <td>0.025880</td>\n",
       "      <td>Canned</td>\n",
       "      <td>265.2226</td>\n",
       "      <td>OUT045</td>\n",
       "      <td>2002</td>\n",
       "      <td>NaN</td>\n",
       "      <td>Tier 2</td>\n",
       "      <td>Supermarket Type1</td>\n",
       "      <td>5815.0972</td>\n",
       "    </tr>\n",
       "    <tr>\n",
       "      <td>53</td>\n",
       "      <td>FDA43</td>\n",
       "      <td>10.895</td>\n",
       "      <td>Low Fat</td>\n",
       "      <td>0.065042</td>\n",
       "      <td>Fruits and Vegetables</td>\n",
       "      <td>196.3794</td>\n",
       "      <td>OUT017</td>\n",
       "      <td>2007</td>\n",
       "      <td>NaN</td>\n",
       "      <td>Tier 2</td>\n",
       "      <td>Supermarket Type1</td>\n",
       "      <td>3121.2704</td>\n",
       "    </tr>\n",
       "  </tbody>\n",
       "</table>\n",
       "</div>"
      ],
      "text/plain": [
       "   Item_Identifier  Item_Weight Item_Fat_Content  Item_Visibility  \\\n",
       "8            FDH17       16.200          Regular         0.016687   \n",
       "9            FDU28       19.200          Regular         0.094450   \n",
       "19           FDU02       13.350          Low Fat         0.102492   \n",
       "22           NCB30       14.600          Low Fat         0.025698   \n",
       "25           NCD06       13.000          Low Fat         0.099887   \n",
       "26           FDV10        7.645          Regular         0.066693   \n",
       "33           FDO23       17.850          Low Fat         0.000000   \n",
       "46           NCP05       19.600          Low Fat         0.000000   \n",
       "47           FDV49       10.000          Low Fat         0.025880   \n",
       "53           FDA43       10.895          Low Fat         0.065042   \n",
       "\n",
       "                Item_Type  Item_MRP Outlet_Identifier  \\\n",
       "8            Frozen Foods   96.9726            OUT045   \n",
       "9            Frozen Foods  187.8214            OUT017   \n",
       "19                  Dairy  230.5352            OUT035   \n",
       "22              Household  196.5084            OUT035   \n",
       "25              Household   45.9060            OUT017   \n",
       "26            Snack Foods   42.3112            OUT035   \n",
       "33                 Breads   93.1436            OUT045   \n",
       "46     Health and Hygiene  153.3024            OUT045   \n",
       "47                 Canned  265.2226            OUT045   \n",
       "53  Fruits and Vegetables  196.3794            OUT017   \n",
       "\n",
       "    Outlet_Establishment_Year Outlet_Size Outlet_Location_Type  \\\n",
       "8                        2002         NaN               Tier 2   \n",
       "9                        2007         NaN               Tier 2   \n",
       "19                       2004       Small               Tier 2   \n",
       "22                       2004       Small               Tier 2   \n",
       "25                       2007         NaN               Tier 2   \n",
       "26                       2004       Small               Tier 2   \n",
       "33                       2002         NaN               Tier 2   \n",
       "46                       2002         NaN               Tier 2   \n",
       "47                       2002         NaN               Tier 2   \n",
       "53                       2007         NaN               Tier 2   \n",
       "\n",
       "          Outlet_Type  Item_Outlet_Sales  \n",
       "8   Supermarket Type1          1076.5986  \n",
       "9   Supermarket Type1          4710.5350  \n",
       "19  Supermarket Type1          2748.4224  \n",
       "22  Supermarket Type1          1587.2672  \n",
       "25  Supermarket Type1           838.9080  \n",
       "26  Supermarket Type1          1065.2800  \n",
       "33  Supermarket Type1          2174.5028  \n",
       "46  Supermarket Type1          2428.8384  \n",
       "47  Supermarket Type1          5815.0972  \n",
       "53  Supermarket Type1          3121.2704  "
      ]
     },
     "execution_count": 94,
     "metadata": {},
     "output_type": "execute_result"
    }
   ],
   "source": [
    "ob.get_group('Tier 2').head(10)"
   ]
  },
  {
   "cell_type": "markdown",
   "metadata": {},
   "source": [
    "Let's check the distribution of our target column - ``Item_Outlet_Sales``"
   ]
  },
  {
   "cell_type": "code",
   "execution_count": 95,
   "metadata": {},
   "outputs": [
    {
     "data": {
      "image/png": "[encoded data removed]",
      "text/plain": [
       "<Figure size 864x576 with 1 Axes>"
      ]
     },
     "metadata": {},
     "output_type": "display_data"
    }
   ],
   "source": [
    "sns.distplot(df_train.Item_Outlet_Sales, bins=50, color = 'red')\n",
    "plt.xlabel('Item Outlet Sales')\n",
    "plt.ylabel('No. of scales')\n",
    "plt.title('Item Outlet Sales distribution');"
   ]
  },
  {
   "cell_type": "markdown",
   "metadata": {},
   "source": [
    "Our target column is ``left skewed``"
   ]
  },
  {
   "cell_type": "markdown",
   "metadata": {},
   "source": [
    "Let's find out correlation between numerical features"
   ]
  },
  {
   "cell_type": "code",
   "execution_count": 96,
   "metadata": {},
   "outputs": [
    {
     "data": {
      "text/plain": [
       "Item_Weight                  float64\n",
       "Item_Visibility              float64\n",
       "Item_MRP                     float64\n",
       "Outlet_Establishment_Year      int64\n",
       "Item_Outlet_Sales            float64\n",
       "dtype: object"
      ]
     },
     "execution_count": 96,
     "metadata": {},
     "output_type": "execute_result"
    }
   ],
   "source": [
    "num_feature = df_train.select_dtypes(include=[np.number])\n",
    "num_feature.dtypes"
   ]
  },
  {
   "cell_type": "code",
   "execution_count": 97,
   "metadata": {},
   "outputs": [
    {
     "data": {
      "text/html": [
       "<div>\n",
       "<style scoped>\n",
       "    .dataframe tbody tr th:only-of-type {\n",
       "        vertical-align: middle;\n",
       "    }\n",
       "\n",
       "    .dataframe tbody tr th {\n",
       "        vertical-align: top;\n",
       "    }\n",
       "\n",
       "    .dataframe thead th {\n",
       "        text-align: right;\n",
       "    }\n",
       "</style>\n",
       "<table border=\"1\" class=\"dataframe\">\n",
       "  <thead>\n",
       "    <tr style=\"text-align: right;\">\n",
       "      <th></th>\n",
       "      <th>Item_Weight</th>\n",
       "      <th>Item_Visibility</th>\n",
       "      <th>Item_MRP</th>\n",
       "      <th>Outlet_Establishment_Year</th>\n",
       "      <th>Item_Outlet_Sales</th>\n",
       "    </tr>\n",
       "  </thead>\n",
       "  <tbody>\n",
       "    <tr>\n",
       "      <td>Item_Weight</td>\n",
       "      <td>1.000000</td>\n",
       "      <td>-0.014048</td>\n",
       "      <td>0.027141</td>\n",
       "      <td>-0.011588</td>\n",
       "      <td>0.014123</td>\n",
       "    </tr>\n",
       "    <tr>\n",
       "      <td>Item_Visibility</td>\n",
       "      <td>-0.014048</td>\n",
       "      <td>1.000000</td>\n",
       "      <td>-0.001315</td>\n",
       "      <td>-0.074834</td>\n",
       "      <td>-0.128625</td>\n",
       "    </tr>\n",
       "    <tr>\n",
       "      <td>Item_MRP</td>\n",
       "      <td>0.027141</td>\n",
       "      <td>-0.001315</td>\n",
       "      <td>1.000000</td>\n",
       "      <td>0.005020</td>\n",
       "      <td>0.567574</td>\n",
       "    </tr>\n",
       "    <tr>\n",
       "      <td>Outlet_Establishment_Year</td>\n",
       "      <td>-0.011588</td>\n",
       "      <td>-0.074834</td>\n",
       "      <td>0.005020</td>\n",
       "      <td>1.000000</td>\n",
       "      <td>-0.049135</td>\n",
       "    </tr>\n",
       "    <tr>\n",
       "      <td>Item_Outlet_Sales</td>\n",
       "      <td>0.014123</td>\n",
       "      <td>-0.128625</td>\n",
       "      <td>0.567574</td>\n",
       "      <td>-0.049135</td>\n",
       "      <td>1.000000</td>\n",
       "    </tr>\n",
       "  </tbody>\n",
       "</table>\n",
       "</div>"
      ],
      "text/plain": [
       "                           Item_Weight  Item_Visibility  Item_MRP  \\\n",
       "Item_Weight                   1.000000        -0.014048  0.027141   \n",
       "Item_Visibility              -0.014048         1.000000 -0.001315   \n",
       "Item_MRP                      0.027141        -0.001315  1.000000   \n",
       "Outlet_Establishment_Year    -0.011588        -0.074834  0.005020   \n",
       "Item_Outlet_Sales             0.014123        -0.128625  0.567574   \n",
       "\n",
       "                           Outlet_Establishment_Year  Item_Outlet_Sales  \n",
       "Item_Weight                                -0.011588           0.014123  \n",
       "Item_Visibility                            -0.074834          -0.128625  \n",
       "Item_MRP                                    0.005020           0.567574  \n",
       "Outlet_Establishment_Year                   1.000000          -0.049135  \n",
       "Item_Outlet_Sales                          -0.049135           1.000000  "
      ]
     },
     "execution_count": 97,
     "metadata": {},
     "output_type": "execute_result"
    }
   ],
   "source": [
    "num_feature.corr()"
   ]
  },
  {
   "cell_type": "code",
   "execution_count": 98,
   "metadata": {},
   "outputs": [
    {
     "name": "stdout",
     "output_type": "stream",
     "text": [
      "Item_Outlet_Sales            1.000000\n",
      "Item_MRP                     0.567574\n",
      "Item_Weight                  0.014123\n",
      "Outlet_Establishment_Year   -0.049135\n",
      "Item_Visibility             -0.128625\n",
      "Name: Item_Outlet_Sales, dtype: float64\n"
     ]
    },
    {
     "data": {
      "image/png": "[encoded data removed]",
      "text/plain": [
       "<Figure size 864x576 with 2 Axes>"
      ]
     },
     "metadata": {},
     "output_type": "display_data"
    }
   ],
   "source": [
    "plt.style.use('bmh')\n",
    "print(num_feature.corr()['Item_Outlet_Sales'].sort_values(ascending=False))\n",
    "sns.heatmap(num_feature.corr(), annot=True, cmap = 'magma');"
   ]
  },
  {
   "cell_type": "markdown",
   "metadata": {},
   "source": [
    "We can clearly see Mrp of any item is correlated with the sales of the outlet. "
   ]
  },
  {
   "cell_type": "code",
   "execution_count": 99,
   "metadata": {},
   "outputs": [
    {
     "data": {
      "image/png": "[encoded data removed]",
      "text/plain": [
       "<Figure size 864x576 with 1 Axes>"
      ]
     },
     "metadata": {},
     "output_type": "display_data"
    }
   ],
   "source": [
    "plt.plot(df_train['Item_MRP'], df_train['Item_Outlet_Sales'], '_', color = '#E2A50F')\n",
    "plt.xlabel('Item MRP')\n",
    "plt.ylabel('Sales')\n",
    "plt.title('Impact of MRP of an Item on Sales');"
   ]
  },
  {
   "cell_type": "markdown",
   "metadata": {},
   "source": [
    "### Ploting some of categorical variables."
   ]
  },
  {
   "cell_type": "markdown",
   "metadata": {},
   "source": [
    "Natural counterpart of histograms are frequency and bar charts for categorical variables"
   ]
  },
  {
   "cell_type": "code",
   "execution_count": 100,
   "metadata": {},
   "outputs": [
    {
     "data": {
      "text/plain": [
       "Item_Identifier         object\n",
       "Item_Fat_Content        object\n",
       "Item_Type               object\n",
       "Outlet_Identifier       object\n",
       "Outlet_Size             object\n",
       "Outlet_Location_Type    object\n",
       "Outlet_Type             object\n",
       "dtype: object"
      ]
     },
     "execution_count": 100,
     "metadata": {},
     "output_type": "execute_result"
    }
   ],
   "source": [
    "# Checking all categorical variables\n",
    "cat_features = df_train.select_dtypes(include=[np.object])\n",
    "cat_features.dtypes"
   ]
  },
  {
   "cell_type": "markdown",
   "metadata": {},
   "source": [
    "``Item_Identifier`` is the unique id of a particular item in all the stores"
   ]
  },
  {
   "cell_type": "code",
   "execution_count": 101,
   "metadata": {},
   "outputs": [
    {
     "name": "stdout",
     "output_type": "stream",
     "text": [
      "FDW13    10\n",
      "FDG33    10\n",
      "FDP25     9\n",
      "FDV60     9\n",
      "FDX20     9\n",
      "FDV38     9\n",
      "FDF56     9\n",
      "NCB18     9\n",
      "FDX04     9\n",
      "FDX31     9\n",
      "Name: Item_Identifier, dtype: int64\n",
      "\n",
      "No. of Unique itmes :  1559\n"
     ]
    }
   ],
   "source": [
    "print(df_train.Item_Identifier.value_counts().head(10))\n",
    "print()\n",
    "print('No. of Unique itmes : ', df_train.Item_Identifier.nunique())"
   ]
  },
  {
   "cell_type": "markdown",
   "metadata": {},
   "source": [
    "There are total ``1559`` unique products present across all the stores"
   ]
  },
  {
   "cell_type": "code",
   "execution_count": 102,
   "metadata": {},
   "outputs": [
    {
     "data": {
      "text/plain": [
       "Low Fat    5089\n",
       "Regular    2889\n",
       "LF          316\n",
       "reg         117\n",
       "low fat     112\n",
       "Name: Item_Fat_Content, dtype: int64"
      ]
     },
     "execution_count": 102,
     "metadata": {},
     "output_type": "execute_result"
    }
   ],
   "source": [
    "df_train.Item_Fat_Content.value_counts()"
   ]
  },
  {
   "cell_type": "markdown",
   "metadata": {},
   "source": [
    "If we notice there is some repition in the data, boardly we can divide this in 2 categories i.e; ``Low Fat`` & ``Regular``. We can remove that in during feature engineering, right now we can manupulate it just to graphically represent it."
   ]
  },
  {
   "cell_type": "markdown",
   "metadata": {},
   "source": [
    "We shall plot each categorical variable and its impact on sales"
   ]
  },
  {
   "cell_type": "code",
   "execution_count": 103,
   "metadata": {},
   "outputs": [],
   "source": [
    "df_train['Item_Fat_Content'] = df_train['Item_Fat_Content'].replace('LF','Low Fat')\n",
    "df_train['Item_Fat_Content'] = df_train['Item_Fat_Content'].replace('low fat', 'Low Fat')\n",
    "df_train['Item_Fat_Content'] = df_train['Item_Fat_Content'].replace('reg', 'Regular')"
   ]
  },
  {
   "cell_type": "markdown",
   "metadata": {},
   "source": [
    "### Fat Content & its impact on Sales"
   ]
  },
  {
   "cell_type": "code",
   "execution_count": 104,
   "metadata": {},
   "outputs": [
    {
     "data": {
      "image/png": "[encoded data removed]",
      "text/plain": [
       "<Figure size 864x576 with 1 Axes>"
      ]
     },
     "metadata": {},
     "output_type": "display_data"
    }
   ],
   "source": [
    "plt.style.use('bmh')\n",
    "color = '#7FD59E', '#D57FB3'\n",
    "plt.pie(df_train.Item_Fat_Content.value_counts(), data = df_train, labels = ('Low Fat', 'Regular Fat'), \n",
    "        colors = color, autopct='%1.1f%%', startangle = 70, shadow = True, explode = (0.08, 0), textprops={'fontsize': 16})\n",
    "plt.title('Fat Content in items');"
   ]
  },
  {
   "cell_type": "code",
   "execution_count": 105,
   "metadata": {},
   "outputs": [
    {
     "name": "stdout",
     "output_type": "stream",
     "text": [
      "                  Item_Outlet_Sales\n",
      "Item_Fat_Content                   \n",
      "Low Fat                 2157.711534\n",
      "Regular                 2224.561170\n"
     ]
    },
    {
     "data": {
      "image/png": "[encoded data removed]",
      "text/plain": [
       "<Figure size 864x576 with 1 Axes>"
      ]
     },
     "metadata": {},
     "output_type": "display_data"
    }
   ],
   "source": [
    "# Lets see if fat content has any impact on the sales\n",
    "Fat_cont_pivot = df_train.pivot_table(index = 'Item_Fat_Content', values = 'Item_Outlet_Sales', aggfunc = np.mean)\n",
    "print(Fat_cont_pivot)\n",
    "\n",
    "Fat_cont_pivot.plot(kind = 'bar', color = '#91992C')\n",
    "plt.xlabel('Item_Fat_Content')\n",
    "plt.xticks(rotation = 0)\n",
    "plt.ylabel('Item_Outlet_sales')\n",
    "plt.title('Impact of Fat content on Sales');"
   ]
  },
  {
   "cell_type": "markdown",
   "metadata": {},
   "source": [
    "The other categorical variable is ``Item_type``, lets check what are the different items sold in the outlet and does it have any impact on the sales."
   ]
  },
  {
   "cell_type": "markdown",
   "metadata": {},
   "source": [
    "### Item Type and its impact on Sales"
   ]
  },
  {
   "cell_type": "code",
   "execution_count": 106,
   "metadata": {},
   "outputs": [
    {
     "name": "stdout",
     "output_type": "stream",
     "text": [
      "Fruits and Vegetables    1232\n",
      "Snack Foods              1200\n",
      "Household                 910\n",
      "Frozen Foods              856\n",
      "Dairy                     682\n",
      "Canned                    649\n",
      "Baking Goods              648\n",
      "Health and Hygiene        520\n",
      "Soft Drinks               445\n",
      "Meat                      425\n",
      "Breads                    251\n",
      "Hard Drinks               214\n",
      "Others                    169\n",
      "Starchy Foods             148\n",
      "Breakfast                 110\n",
      "Seafood                    64\n",
      "Name: Item_Type, dtype: int64\n"
     ]
    },
    {
     "data": {
      "image/png": "[encoded data removed]",
      "text/plain": [
       "<Figure size 864x576 with 1 Axes>"
      ]
     },
     "metadata": {},
     "output_type": "display_data"
    }
   ],
   "source": [
    "print(df_train['Item_Type'].value_counts())\n",
    "sns.countplot(y=df_train['Item_Type'], palette = 'tab20b');"
   ]
  },
  {
   "cell_type": "code",
   "execution_count": 107,
   "metadata": {},
   "outputs": [
    {
     "name": "stdout",
     "output_type": "stream",
     "text": [
      "                       Item_Outlet_Sales\n",
      "Item_Type                               \n",
      "Baking Goods                 1952.971207\n",
      "Breads                       2204.132226\n",
      "Breakfast                    2111.808651\n",
      "Canned                       2225.194904\n",
      "Dairy                        2232.542597\n",
      "Frozen Foods                 2132.867744\n",
      "Fruits and Vegetables        2289.009592\n",
      "Hard Drinks                  2139.221622\n",
      "Health and Hygiene           2010.000265\n",
      "Household                    2258.784300\n",
      "Meat                         2158.977911\n",
      "Others                       1926.139702\n",
      "Seafood                      2326.065928\n",
      "Snack Foods                  2277.321739\n",
      "Soft Drinks                  2006.511735\n",
      "Starchy Foods                2374.332773\n"
     ]
    },
    {
     "data": {
      "image/png": "[encoded data removed]",
      "text/plain": [
       "<Figure size 864x576 with 1 Axes>"
      ]
     },
     "metadata": {},
     "output_type": "display_data"
    }
   ],
   "source": [
    "Item_type_pivot = df_train.pivot_table(index = 'Item_Type', values = 'Item_Outlet_Sales', aggfunc = np.mean)\n",
    "print(Item_type_pivot)\n",
    "\n",
    "Item_type_pivot.plot(kind = 'bar', color = '#91992C')\n",
    "plt.xlabel('Item Type')\n",
    "plt.xticks(rotation = 90)\n",
    "plt.ylabel('Item_Outlet_sales')\n",
    "plt.title('Impact of Item types on Sales');"
   ]
  },
  {
   "cell_type": "markdown",
   "metadata": {},
   "source": [
    "### Outlet Size & its impact on Sales"
   ]
  },
  {
   "cell_type": "code",
   "execution_count": 108,
   "metadata": {},
   "outputs": [
    {
     "name": "stdout",
     "output_type": "stream",
     "text": [
      "Medium    2793\n",
      "Small     2388\n",
      "High       932\n",
      "Name: Outlet_Size, dtype: int64\n"
     ]
    },
    {
     "data": {
      "image/png": "[encoded data removed]",
      "text/plain": [
       "<Figure size 864x576 with 1 Axes>"
      ]
     },
     "metadata": {},
     "output_type": "display_data"
    }
   ],
   "source": [
    "print(df_train['Outlet_Size'].value_counts())\n",
    "sns.countplot(x=df_train['Outlet_Size'], palette = 'cubehelix');"
   ]
  },
  {
   "cell_type": "markdown",
   "metadata": {},
   "source": [
    "#### We see, medium outlet are more in number when compared to two. Infact, big outlets are very less when compared to the other two"
   ]
  },
  {
   "cell_type": "code",
   "execution_count": 109,
   "metadata": {},
   "outputs": [
    {
     "name": "stdout",
     "output_type": "stream",
     "text": [
      "             Item_Outlet_Sales\n",
      "Outlet_Size                   \n",
      "High               2298.995256\n",
      "Medium             2681.603542\n",
      "Small              1912.149161\n"
     ]
    },
    {
     "data": {
      "image/png": "[encoded data removed]",
      "text/plain": [
       "<Figure size 864x576 with 1 Axes>"
      ]
     },
     "metadata": {},
     "output_type": "display_data"
    }
   ],
   "source": [
    "out_size_pivot = df_train.pivot_table(index = 'Outlet_Size', values = 'Item_Outlet_Sales', aggfunc = np.mean)\n",
    "print(out_size_pivot)\n",
    "\n",
    "out_size_pivot.plot(kind = 'bar', color = '#91992C')\n",
    "plt.xlabel('Outlet Size')\n",
    "plt.xticks(rotation = 0)\n",
    "plt.ylabel('Item_Outlet_sales')\n",
    "plt.title('Impact of Outlet Size on Sales');"
   ]
  },
  {
   "cell_type": "markdown",
   "metadata": {},
   "source": [
    "The sales in smaller outlets is very low though they were more in number compared to higher outlets and there is very minimal difference between the sales higher size of outlets and medium sized outlets, though the number of large outlets are less in number."
   ]
  },
  {
   "cell_type": "markdown",
   "metadata": {},
   "source": [
    "### Oulet Location Type and its impact on Sales"
   ]
  },
  {
   "cell_type": "code",
   "execution_count": 110,
   "metadata": {},
   "outputs": [
    {
     "name": "stdout",
     "output_type": "stream",
     "text": [
      "Tier 3    3350\n",
      "Tier 2    2785\n",
      "Tier 1    2388\n",
      "Name: Outlet_Location_Type, dtype: int64\n"
     ]
    },
    {
     "data": {
      "image/png": "[encoded data removed]",
      "text/plain": [
       "<Figure size 864x576 with 1 Axes>"
      ]
     },
     "metadata": {},
     "output_type": "display_data"
    }
   ],
   "source": [
    "print(df_train['Outlet_Location_Type'].value_counts())\n",
    "sns.countplot(x=df_train['Outlet_Location_Type'], palette = 'viridis');"
   ]
  },
  {
   "cell_type": "markdown",
   "metadata": {},
   "source": [
    "Cities that are just beginning to wake up have more number of outlets compared to the other developed cities. Let's see if sales are impacted byt the Location"
   ]
  },
  {
   "cell_type": "code",
   "execution_count": 111,
   "metadata": {},
   "outputs": [
    {
     "name": "stdout",
     "output_type": "stream",
     "text": [
      "                      Item_Outlet_Sales\n",
      "Outlet_Location_Type                   \n",
      "Tier 1                      1876.909159\n",
      "Tier 2                      2323.990559\n",
      "Tier 3                      2279.627651\n"
     ]
    },
    {
     "data": {
      "image/png": "[encoded data removed]",
      "text/plain": [
       "<Figure size 864x576 with 1 Axes>"
      ]
     },
     "metadata": {},
     "output_type": "display_data"
    }
   ],
   "source": [
    "out_loc_pivot = df_train.pivot_table(index = 'Outlet_Location_Type', values = 'Item_Outlet_Sales', aggfunc = np.mean)\n",
    "print(out_loc_pivot)\n",
    "\n",
    "out_loc_pivot.plot(kind = 'bar', color = '#91992C')\n",
    "plt.xlabel('Outlet Location Type')\n",
    "plt.xticks(rotation = 0)\n",
    "plt.ylabel('Item_Outlet_sales')\n",
    "plt.title('Impact of Location Type on Sales');"
   ]
  },
  {
   "cell_type": "markdown",
   "metadata": {},
   "source": [
    "### Outlet Type and its impact on Sales"
   ]
  },
  {
   "cell_type": "code",
   "execution_count": 112,
   "metadata": {},
   "outputs": [
    {
     "name": "stdout",
     "output_type": "stream",
     "text": [
      "Supermarket Type1    5577\n",
      "Grocery Store        1083\n",
      "Supermarket Type3     935\n",
      "Supermarket Type2     928\n",
      "Name: Outlet_Type, dtype: int64\n"
     ]
    },
    {
     "data": {
      "image/png": "[encoded data removed]",
      "text/plain": [
       "<Figure size 864x576 with 1 Axes>"
      ]
     },
     "metadata": {},
     "output_type": "display_data"
    }
   ],
   "source": [
    "print(df_train['Outlet_Type'].value_counts())\n",
    "sns.countplot(x=df_train['Outlet_Type'], palette = 'rocket_r');"
   ]
  },
  {
   "cell_type": "markdown",
   "metadata": {},
   "source": [
    "Type 1 Supermarket is a lot more in number compared to the other supermarkets or grocery store, lets see if that impacts the sale"
   ]
  },
  {
   "cell_type": "code",
   "execution_count": 113,
   "metadata": {},
   "outputs": [
    {
     "name": "stdout",
     "output_type": "stream",
     "text": [
      "                   Item_Outlet_Sales\n",
      "Outlet_Type                         \n",
      "Grocery Store             339.828500\n",
      "Supermarket Type1        2316.181148\n",
      "Supermarket Type2        1995.498739\n",
      "Supermarket Type3        3694.038558\n"
     ]
    },
    {
     "data": {
      "image/png": "[encoded data removed]",
      "text/plain": [
       "<Figure size 864x576 with 1 Axes>"
      ]
     },
     "metadata": {},
     "output_type": "display_data"
    }
   ],
   "source": [
    "out_type_pivot = df_train.pivot_table(index = 'Outlet_Type', values = 'Item_Outlet_Sales', aggfunc = np.mean)\n",
    "print(out_type_pivot)\n",
    "\n",
    "out_type_pivot.plot(kind = 'bar', color = '#91992C')\n",
    "plt.xlabel('Outlet Type')\n",
    "plt.xticks(rotation = 0)\n",
    "plt.ylabel('Item_Outlet_sales')\n",
    "plt.title('Impact of Outlet Type on Sales');"
   ]
  },
  {
   "cell_type": "markdown",
   "metadata": {},
   "source": [
    "There are quite a good number of ``grocery stores`` but sale happening there is very minimal. Also, ``Type 1 Supermarket`` is higher in number but it is not performing well it seems. The highest sales is happening is ``Type 3 Supermarket`` despite of, there are not many outlets of it."
   ]
  },
  {
   "cell_type": "markdown",
   "metadata": {},
   "source": [
    "## Data Pre-processing"
   ]
  },
  {
   "cell_type": "markdown",
   "metadata": {},
   "source": [
    "After performing EDA, we are finally able to make some conclusions:\n",
    "\n",
    "1. The variables which we thought have higher impact on the outlet sales amongst that ``Item_Visibilty`` and ``Item_Type`` seem to have no high positive correlation with the sales, were as the Outlet's Size, Location & Type have high impact on the sales.\n",
    "\n",
    "\n",
    "2. While looking at the ``Item_Identifier`` variable, we observed there are some letters present in the id as FD, DR, NC, which we can assume to be as Food, Drinks & Non-Consumable. Perfect, we can extract a new variable from it.\n",
    "\n",
    "\n",
    "3. As we saw earlier variable ``Item_Visiblity`` has some values as ZERO, which does not make any sense, as this just means that the item is not present in the store.\n",
    "\n",
    "\n",
    "4. From ``Outlet_Establishment_Year`` we saw its values vary from 1985 to 2009, we can create a varibale indicating how old the outlet is.\n",
    "\n",
    "\n",
    "5. We saw that there are missing values in ``Item_Weight`` and ``Outlet_Size`` variable.\n"
   ]
  },
  {
   "cell_type": "markdown",
   "metadata": {},
   "source": [
    "Let's check if there are null values & we can impute all the null values "
   ]
  },
  {
   "cell_type": "code",
   "execution_count": 114,
   "metadata": {},
   "outputs": [
    {
     "data": {
      "text/plain": [
       "Item_Identifier                 0\n",
       "Item_Weight                  1463\n",
       "Item_Fat_Content                0\n",
       "Item_Visibility                 0\n",
       "Item_Type                       0\n",
       "Item_MRP                        0\n",
       "Outlet_Identifier               0\n",
       "Outlet_Establishment_Year       0\n",
       "Outlet_Size                  2410\n",
       "Outlet_Location_Type            0\n",
       "Outlet_Type                     0\n",
       "Item_Outlet_Sales               0\n",
       "dtype: int64"
      ]
     },
     "execution_count": 114,
     "metadata": {},
     "output_type": "execute_result"
    }
   ],
   "source": [
    "df_train.isnull().sum()"
   ]
  },
  {
   "cell_type": "code",
   "execution_count": 115,
   "metadata": {},
   "outputs": [
    {
     "data": {
      "text/plain": [
       "Item_Identifier                 0\n",
       "Item_Weight                   976\n",
       "Item_Fat_Content                0\n",
       "Item_Visibility                 0\n",
       "Item_Type                       0\n",
       "Item_MRP                        0\n",
       "Outlet_Identifier               0\n",
       "Outlet_Establishment_Year       0\n",
       "Outlet_Size                  1606\n",
       "Outlet_Location_Type            0\n",
       "Outlet_Type                     0\n",
       "dtype: int64"
      ]
     },
     "execution_count": 115,
     "metadata": {},
     "output_type": "execute_result"
    }
   ],
   "source": [
    "df_test.isnull().sum()"
   ]
  },
  {
   "cell_type": "code",
   "execution_count": 116,
   "metadata": {},
   "outputs": [],
   "source": [
    "# We can simply impute the missing values of Item weight by its mean.\n",
    "df_train['Item_Weight'].fillna(df_train['Item_Weight'].mean(), inplace=True)\n",
    "df_test['Item_Weight'].fillna(df_test['Item_Weight'].mean(), inplace=True)"
   ]
  },
  {
   "cell_type": "code",
   "execution_count": 117,
   "metadata": {},
   "outputs": [],
   "source": [
    "# Determing the mode for each -Train Data\n",
    "out_size_mode_train = df_train.pivot_table(values = 'Outlet_Size', columns = 'Outlet_Type', aggfunc = lambda x: x.mode())"
   ]
  },
  {
   "cell_type": "code",
   "execution_count": 118,
   "metadata": {},
   "outputs": [],
   "source": [
    "def nan_out_size_train(cols):\n",
    "    size = cols[0]\n",
    "    Type = cols[1]\n",
    "    if pd.isnull(size):\n",
    "        return out_size_mode_train.loc['Outlet_Size'] [out_size_mode_train.columns == Type][0]\n",
    "    else:\n",
    "        return size\n",
    "    \n",
    "df_train['Outlet_Size'] = df_train[['Outlet_Size', 'Outlet_Type']].apply(nan_out_size_train, axis = 1)"
   ]
  },
  {
   "cell_type": "code",
   "execution_count": 119,
   "metadata": {},
   "outputs": [],
   "source": [
    "# Determing the mode for each -Test Data\n",
    "out_size_mode_test = df_test.pivot_table(values = 'Outlet_Size', columns = 'Outlet_Type', aggfunc = lambda x: x.mode())"
   ]
  },
  {
   "cell_type": "code",
   "execution_count": 120,
   "metadata": {},
   "outputs": [],
   "source": [
    "def nan_out_size_test(cols):\n",
    "    size = cols[0]\n",
    "    Type = cols[1]\n",
    "    if pd.isnull(size):\n",
    "        return out_size_mode_test.loc['Outlet_Size'] [out_size_mode_test.columns == Type][0]\n",
    "    else:\n",
    "        return size\n",
    "    \n",
    "df_test['Outlet_Size'] = df_test[['Outlet_Size', 'Outlet_Type']].apply(nan_out_size_test, axis = 1)"
   ]
  },
  {
   "cell_type": "markdown",
   "metadata": {},
   "source": [
    "## Feature Engineering"
   ]
  },
  {
   "cell_type": "markdown",
   "metadata": {},
   "source": [
    "As we saw in ``Item_Visibilty`` variable there are values which are zero, but it should not be like this as it has be visible to everyone to make sales, so lets treat it as missing value and replace it with the mean."
   ]
  },
  {
   "cell_type": "code",
   "execution_count": 121,
   "metadata": {},
   "outputs": [
    {
     "data": {
      "text/html": [
       "<div>\n",
       "<style scoped>\n",
       "    .dataframe tbody tr th:only-of-type {\n",
       "        vertical-align: middle;\n",
       "    }\n",
       "\n",
       "    .dataframe tbody tr th {\n",
       "        vertical-align: top;\n",
       "    }\n",
       "\n",
       "    .dataframe thead th {\n",
       "        text-align: right;\n",
       "    }\n",
       "</style>\n",
       "<table border=\"1\" class=\"dataframe\">\n",
       "  <thead>\n",
       "    <tr style=\"text-align: right;\">\n",
       "      <th></th>\n",
       "      <th>Item_Visibility</th>\n",
       "    </tr>\n",
       "    <tr>\n",
       "      <th>Item_Identifier</th>\n",
       "      <th></th>\n",
       "    </tr>\n",
       "  </thead>\n",
       "  <tbody>\n",
       "    <tr>\n",
       "      <td>DRA12</td>\n",
       "      <td>0.031956</td>\n",
       "    </tr>\n",
       "    <tr>\n",
       "      <td>DRA24</td>\n",
       "      <td>0.048062</td>\n",
       "    </tr>\n",
       "    <tr>\n",
       "      <td>DRA59</td>\n",
       "      <td>0.134718</td>\n",
       "    </tr>\n",
       "    <tr>\n",
       "      <td>DRB01</td>\n",
       "      <td>0.082126</td>\n",
       "    </tr>\n",
       "    <tr>\n",
       "      <td>DRB13</td>\n",
       "      <td>0.008002</td>\n",
       "    </tr>\n",
       "    <tr>\n",
       "      <td>...</td>\n",
       "      <td>...</td>\n",
       "    </tr>\n",
       "    <tr>\n",
       "      <td>NCZ30</td>\n",
       "      <td>0.024956</td>\n",
       "    </tr>\n",
       "    <tr>\n",
       "      <td>NCZ41</td>\n",
       "      <td>0.051623</td>\n",
       "    </tr>\n",
       "    <tr>\n",
       "      <td>NCZ42</td>\n",
       "      <td>0.009044</td>\n",
       "    </tr>\n",
       "    <tr>\n",
       "      <td>NCZ53</td>\n",
       "      <td>0.027775</td>\n",
       "    </tr>\n",
       "    <tr>\n",
       "      <td>NCZ54</td>\n",
       "      <td>0.080426</td>\n",
       "    </tr>\n",
       "  </tbody>\n",
       "</table>\n",
       "<p>1559 rows × 1 columns</p>\n",
       "</div>"
      ],
      "text/plain": [
       "                 Item_Visibility\n",
       "Item_Identifier                 \n",
       "DRA12                   0.031956\n",
       "DRA24                   0.048062\n",
       "DRA59                   0.134718\n",
       "DRB01                   0.082126\n",
       "DRB13                   0.008002\n",
       "...                          ...\n",
       "NCZ30                   0.024956\n",
       "NCZ41                   0.051623\n",
       "NCZ42                   0.009044\n",
       "NCZ53                   0.027775\n",
       "NCZ54                   0.080426\n",
       "\n",
       "[1559 rows x 1 columns]"
      ]
     },
     "execution_count": 121,
     "metadata": {},
     "output_type": "execute_result"
    }
   ],
   "source": [
    "agg_visible = df_train.pivot_table(values='Item_Visibility', index='Item_Identifier')\n",
    "agg_visible"
   ]
  },
  {
   "cell_type": "code",
   "execution_count": 122,
   "metadata": {},
   "outputs": [
    {
     "data": {
      "text/plain": [
       "0       0.016047\n",
       "1       0.019278\n",
       "2       0.016760\n",
       "3       0.015274\n",
       "4       0.008082\n",
       "          ...   \n",
       "8518    0.056783\n",
       "8519    0.046982\n",
       "8520    0.035186\n",
       "8521    0.145221\n",
       "8522    0.044878\n",
       "Length: 8523, dtype: float64"
      ]
     },
     "execution_count": 122,
     "metadata": {},
     "output_type": "execute_result"
    }
   ],
   "source": [
    "def visible_mean(cols):\n",
    "    visible = cols[0]\n",
    "    items = cols[1]\n",
    "    if visible == 0:\n",
    "        return agg_visible['Item_Visibility'][agg_visible.index ==items]\n",
    "    else:\n",
    "        return visible\n",
    "    \n",
    "df_train[['Item_Visibility', 'Item_Identifier']].apply(visible_mean, axis = 1).astype(float)"
   ]
  },
  {
   "cell_type": "markdown",
   "metadata": {},
   "source": [
    "Here we can make a hypothesis, that the product with high visibility will result in higher sales. So here we can create 1 more variable according the importance given to the item in all the outlets according to the mean of significance given to the same product in all other stores."
   ]
  },
  {
   "cell_type": "code",
   "execution_count": 123,
   "metadata": {},
   "outputs": [
    {
     "data": {
      "text/plain": [
       "count    8523.000000\n",
       "mean        1.000000\n",
       "std         0.348957\n",
       "min         0.000000\n",
       "25%         0.892715\n",
       "50%         0.998970\n",
       "75%         1.055863\n",
       "max         2.729420\n",
       "Name: Item_Vis_Mean, dtype: float64"
      ]
     },
     "execution_count": 123,
     "metadata": {},
     "output_type": "execute_result"
    }
   ],
   "source": [
    "# For Training data\n",
    "funct_tr = lambda x: x['Item_Visibility']/agg_visible['Item_Visibility'][agg_visible.index == x['Item_Identifier']][0]\n",
    "df_train['Item_Vis_Mean'] = df_train.apply(funct_tr,axis=1).astype(float)\n",
    "df_train['Item_Vis_Mean'].describe()"
   ]
  },
  {
   "cell_type": "code",
   "execution_count": 124,
   "metadata": {},
   "outputs": [
    {
     "data": {
      "text/plain": [
       "count    5681.000000\n",
       "mean        1.024980\n",
       "std         0.410300\n",
       "min         0.000000\n",
       "25%         0.879033\n",
       "50%         0.998596\n",
       "75%         1.068085\n",
       "max         3.518782\n",
       "Name: Item_Vis_Mean, dtype: float64"
      ]
     },
     "execution_count": 124,
     "metadata": {},
     "output_type": "execute_result"
    }
   ],
   "source": [
    "# For Test Data\n",
    "funct_ts = lambda x: x['Item_Visibility']/agg_visible['Item_Visibility'][agg_visible.index == x['Item_Identifier']][0]\n",
    "df_test['Item_Vis_Mean'] = df_test.apply(funct_ts,axis=1).astype(float)\n",
    "df_test['Item_Vis_Mean'].describe()"
   ]
  },
  {
   "cell_type": "code",
   "execution_count": 125,
   "metadata": {},
   "outputs": [
    {
     "name": "stdout",
     "output_type": "stream",
     "text": [
      "[1999 2009 1998 1987 1985 2002 2007 1997 2004]\n",
      "\n",
      "[1999 2007 1998 1985 1997 2009 2002 1987 2004]\n"
     ]
    }
   ],
   "source": [
    "# Let's Consider the outlet establishment years\n",
    "print(df_train['Outlet_Establishment_Year'].unique())\n",
    "print()\n",
    "print(df_test['Outlet_Establishment_Year'].unique())"
   ]
  },
  {
   "cell_type": "code",
   "execution_count": 126,
   "metadata": {},
   "outputs": [],
   "source": [
    "# The data we have is from year 2013, so we would consider 2013 for calculating that how old is the outlet\n",
    "df_train['Outlet_years'] = 2013 - df_train['Outlet_Establishment_Year']\n",
    "df_test['Outlet_years'] = 2013 - df_test['Outlet_Establishment_Year']"
   ]
  },
  {
   "cell_type": "code",
   "execution_count": 127,
   "metadata": {},
   "outputs": [
    {
     "data": {
      "text/plain": [
       "count    8523.000000\n",
       "mean       15.168133\n",
       "std         8.371760\n",
       "min         4.000000\n",
       "25%         9.000000\n",
       "50%        14.000000\n",
       "75%        26.000000\n",
       "max        28.000000\n",
       "Name: Outlet_years, dtype: float64"
      ]
     },
     "execution_count": 127,
     "metadata": {},
     "output_type": "execute_result"
    }
   ],
   "source": [
    "df_train['Outlet_years'].describe()"
   ]
  },
  {
   "cell_type": "code",
   "execution_count": 128,
   "metadata": {},
   "outputs": [
    {
     "data": {
      "text/plain": [
       "count    5681.000000\n",
       "mean       15.171097\n",
       "std         8.372256\n",
       "min         4.000000\n",
       "25%         9.000000\n",
       "50%        14.000000\n",
       "75%        26.000000\n",
       "max        28.000000\n",
       "Name: Outlet_years, dtype: float64"
      ]
     },
     "execution_count": 128,
     "metadata": {},
     "output_type": "execute_result"
    }
   ],
   "source": [
    "df_test['Outlet_years'].describe()"
   ]
  },
  {
   "cell_type": "markdown",
   "metadata": {},
   "source": [
    "On an average the Big Mart stores are about 15 years old, the last outlet was opened 4 years back from 2013 ie; in 2009"
   ]
  },
  {
   "cell_type": "markdown",
   "metadata": {},
   "source": [
    "Let's create a broad category of the ``Item_Identifier`` as we saw there are 1559 unique items each starting with some letters such as ``FD, DR, NC``, we can replace them with ``FOOD, DRINKS & NON-CONSUMABLE``"
   ]
  },
  {
   "cell_type": "code",
   "execution_count": 129,
   "metadata": {},
   "outputs": [
    {
     "data": {
      "text/plain": [
       "Food              6125\n",
       "Non-Consumable    1599\n",
       "Drinks             799\n",
       "Name: Combined_Item_Type, dtype: int64"
      ]
     },
     "execution_count": 129,
     "metadata": {},
     "output_type": "execute_result"
    }
   ],
   "source": [
    "# For Train data\n",
    "df_train['Combined_Item_Type'] = df_train['Item_Identifier'].apply(lambda x: x[0:2])\n",
    "\n",
    "df_train['Combined_Item_Type'] = df_train['Combined_Item_Type'].map({'FD':'Food',\n",
    "                                                             'NC':'Non-Consumable',\n",
    "                                                             'DR':'Drinks'})\n",
    "df_train['Combined_Item_Type'].value_counts()"
   ]
  },
  {
   "cell_type": "code",
   "execution_count": 130,
   "metadata": {},
   "outputs": [
    {
     "data": {
      "text/plain": [
       "Food              4076\n",
       "Non-Consumable    1087\n",
       "Drinks             518\n",
       "Name: Combined_Item_Type, dtype: int64"
      ]
     },
     "execution_count": 130,
     "metadata": {},
     "output_type": "execute_result"
    }
   ],
   "source": [
    "# For Test data\n",
    "df_test['Combined_Item_Type'] = df_test['Item_Identifier'].apply(lambda x: x[0:2])\n",
    "\n",
    "df_test['Combined_Item_Type'] = df_test['Combined_Item_Type'].map({'FD':'Food',\n",
    "                                                             'NC':'Non-Consumable',\n",
    "                                                             'DR':'Drinks'})\n",
    "df_test['Combined_Item_Type'].value_counts()"
   ]
  },
  {
   "cell_type": "markdown",
   "metadata": {},
   "source": [
    "Since we have a category of food as Non-Consumable, then these substances would be Inedible, so we can create a seperate category for these items in content variable"
   ]
  },
  {
   "cell_type": "code",
   "execution_count": 131,
   "metadata": {},
   "outputs": [
    {
     "data": {
      "text/plain": [
       "Low Fat      3918\n",
       "Regular      3006\n",
       "In-edible    1599\n",
       "Name: Item_Fat_Content, dtype: int64"
      ]
     },
     "execution_count": 131,
     "metadata": {},
     "output_type": "execute_result"
    }
   ],
   "source": [
    "df_train.loc[df_train['Combined_Item_Type'] == 'Non-Consumable', 'Item_Fat_Content'] = 'In-edible'\n",
    "df_train['Item_Fat_Content'].value_counts()"
   ]
  },
  {
   "cell_type": "code",
   "execution_count": 132,
   "metadata": {},
   "outputs": [
    {
     "data": {
      "text/plain": [
       "Low Fat      3918\n",
       "Regular      3006\n",
       "In-edible    1599\n",
       "Name: Item_Fat_Content, dtype: int64"
      ]
     },
     "execution_count": 132,
     "metadata": {},
     "output_type": "execute_result"
    }
   ],
   "source": [
    "df_train.loc[df_train['Combined_Item_Type'] == 'Non-Consumable', 'Item_Fat_Content'] = 'In-edible'\n",
    "df_train['Item_Fat_Content'].value_counts()"
   ]
  },
  {
   "cell_type": "code",
   "execution_count": 133,
   "metadata": {},
   "outputs": [],
   "source": [
    "df_test['Item_Fat_Content'] = df_test['Item_Fat_Content'].replace({'LF':'Low Fat', 'reg':'Regular', 'low fat':'Low Fat'})"
   ]
  },
  {
   "cell_type": "code",
   "execution_count": 134,
   "metadata": {},
   "outputs": [
    {
     "data": {
      "text/plain": [
       "Low Fat      2581\n",
       "Regular      2013\n",
       "In-edible    1087\n",
       "Name: Item_Fat_Content, dtype: int64"
      ]
     },
     "execution_count": 134,
     "metadata": {},
     "output_type": "execute_result"
    }
   ],
   "source": [
    "df_test.loc[df_test['Combined_Item_Type'] == 'Non-Consumable', 'Item_Fat_Content'] = 'In-edible'\n",
    "df_test['Item_Fat_Content'].value_counts()"
   ]
  },
  {
   "cell_type": "markdown",
   "metadata": {},
   "source": [
    "Now is the time we deal with the categorical variables, using label encoding which will convert categorical variables to numerical and creating dummy varibles of those numeric columns."
   ]
  },
  {
   "cell_type": "code",
   "execution_count": 135,
   "metadata": {},
   "outputs": [],
   "source": [
    "label_encode = LabelEncoder()\n",
    "#New variable for outlet\n",
    "df_train['Outlet'] = label_encode.fit_transform(df_train['Outlet_Identifier'])\n",
    "var_mod_train = ['Item_Fat_Content','Outlet_Location_Type','Outlet_Size','Combined_Item_Type','Outlet_Type','Outlet']\n",
    "for i in var_mod_train:\n",
    "    df_train[i] = label_encode.fit_transform(df_train[i])"
   ]
  },
  {
   "cell_type": "code",
   "execution_count": 136,
   "metadata": {},
   "outputs": [],
   "source": [
    "label_encode = LabelEncoder()\n",
    "#New variable for outlet\n",
    "df_test['Outlet'] = label_encode.fit_transform(df_test['Outlet_Identifier'])\n",
    "var_mod_test = ['Item_Fat_Content','Outlet_Location_Type','Outlet_Size','Combined_Item_Type','Outlet_Type','Outlet']\n",
    "for i in var_mod_test:\n",
    "    df_test[i] = label_encode.fit_transform(df_test[i])"
   ]
  },
  {
   "cell_type": "code",
   "execution_count": 137,
   "metadata": {},
   "outputs": [],
   "source": [
    "#Dummy Variables:\n",
    "df_train = pd.get_dummies(df_train, columns =['Item_Fat_Content','Outlet_Location_Type','Outlet_Size','Outlet_Type',\n",
    "                                  'Combined_Item_Type','Outlet'])\n",
    "\n",
    "\n",
    "df_test = pd.get_dummies(df_test, columns =['Item_Fat_Content','Outlet_Location_Type','Outlet_Size','Outlet_Type',\n",
    "                                  'Combined_Item_Type','Outlet'])\n"
   ]
  },
  {
   "cell_type": "code",
   "execution_count": 138,
   "metadata": {},
   "outputs": [],
   "source": [
    "df_train.drop(df_train[['Item_Type', 'Item_Identifier', 'Outlet_Identifier']], axis=1, inplace=True)\n",
    "df_test.drop(df_test[['Item_Type', 'Item_Identifier', 'Outlet_Identifier']], axis=1, inplace=True)"
   ]
  },
  {
   "cell_type": "code",
   "execution_count": 139,
   "metadata": {},
   "outputs": [
    {
     "name": "stdout",
     "output_type": "stream",
     "text": [
      "(8523, 33)\n",
      "(5681, 32)\n"
     ]
    }
   ],
   "source": [
    "print(df_train.shape)\n",
    "print(df_test.shape)"
   ]
  },
  {
   "cell_type": "code",
   "execution_count": 140,
   "metadata": {},
   "outputs": [],
   "source": [
    "x = df_train.drop(['Item_Outlet_Sales'], axis=1).values\n",
    "y = df_train.Item_Outlet_Sales.values"
   ]
  },
  {
   "cell_type": "code",
   "execution_count": 141,
   "metadata": {},
   "outputs": [
    {
     "data": {
      "text/plain": [
       "((6818, 32), (1705, 32), (6818,), (1705,))"
      ]
     },
     "execution_count": 141,
     "metadata": {},
     "output_type": "execute_result"
    }
   ],
   "source": [
    "train_x, test_x, train_y, test_y = train_test_split(x,y, test_size = 0.2, random_state = 42)\n",
    "train_x.shape, test_x.shape, train_y.shape, test_y.shape"
   ]
  },
  {
   "cell_type": "code",
   "execution_count": 142,
   "metadata": {},
   "outputs": [],
   "source": [
    "feature_scale = StandardScaler()\n",
    "train_x = feature_scale.fit_transform(train_x)\n",
    "test_x = feature_scale.transform(test_x)"
   ]
  },
  {
   "cell_type": "code",
   "execution_count": 143,
   "metadata": {},
   "outputs": [
    {
     "name": "stdout",
     "output_type": "stream",
     "text": [
      "Root Mean Squared Error :  1067.3797509245906\n"
     ]
    }
   ],
   "source": [
    "#Linear Regression\n",
    "lin_reg = LinearRegression(normalize=True)\n",
    "lin_reg.fit(train_x,train_y)\n",
    "print('Root Mean Squared Error : ', np.sqrt(metrics.mean_squared_error(test_y, lin_reg.predict(test_x))))"
   ]
  },
  {
   "cell_type": "code",
   "execution_count": 144,
   "metadata": {},
   "outputs": [
    {
     "name": "stdout",
     "output_type": "stream",
     "text": [
      "Root Mean Squared Error :  1017.9241076786619\n"
     ]
    }
   ],
   "source": [
    "#Random Forest\n",
    "rf = RandomForestRegressor(n_estimators=1000, max_depth=10, min_samples_leaf=100, random_state=42)\n",
    "rf.fit(train_x, train_y)\n",
    "\n",
    "print('Root Mean Squared Error : ', np.sqrt(metrics.mean_squared_error(test_y, rf.predict(test_x))))"
   ]
  },
  {
   "cell_type": "code",
   "execution_count": 145,
   "metadata": {},
   "outputs": [
    {
     "name": "stdout",
     "output_type": "stream",
     "text": [
      "Root Mean Squared Error :  1042.005456354243\n"
     ]
    }
   ],
   "source": [
    "#Decision Tree\n",
    "DT = DecisionTreeRegressor(max_depth=15, min_samples_leaf=100)\n",
    "DT.fit(train_x, train_y)\n",
    "\n",
    "print('Root Mean Squared Error : ', np.sqrt(metrics.mean_squared_error(test_y, DT.predict(test_x))))"
   ]
  },
  {
   "cell_type": "code",
   "execution_count": 146,
   "metadata": {},
   "outputs": [
    {
     "name": "stdout",
     "output_type": "stream",
     "text": [
      "Root Mean Squared Error :  1036.4913001515692\n"
     ]
    }
   ],
   "source": [
    "#Xtreme Gradient Boosting\n",
    "boost = xgb.XGBRegressor(learning_rate = 0.01, n_estimators=1000, max_depth = 4, random_state = 42)\n",
    "boost.fit(train_x, train_y)\n",
    "\n",
    "print('Root Mean Squared Error : ', np.sqrt(metrics.mean_squared_error(test_y, boost.predict(test_x))))"
   ]
  },
  {
   "cell_type": "code",
   "execution_count": 147,
   "metadata": {},
   "outputs": [
    {
     "data": {
      "text/plain": [
       "array([4709.2326166 , 4705.10185069, 4686.82556563, ..., 4703.61909738,\n",
       "       4667.33806017, 4702.96458744])"
      ]
     },
     "execution_count": 147,
     "metadata": {},
     "output_type": "execute_result"
    }
   ],
   "source": [
    "test_pred_rf = rf.predict(df_test)\n",
    "test_pred_rf"
   ]
  },
  {
   "cell_type": "code",
   "execution_count": 148,
   "metadata": {},
   "outputs": [],
   "source": [
    "submission['Item_Outlet_Sales'] = test_pred_rf"
   ]
  },
  {
   "cell_type": "code",
   "execution_count": 150,
   "metadata": {},
   "outputs": [],
   "source": [
    "submission.to_csv(\"Submission_Big_Mart.csv\", index=False)"
   ]
  }
 ],
 "metadata": {
  "kernelspec": {
   "display_name": "Python 3",
   "language": "python",
   "name": "python3"
  },
  "language_info": {
   "codemirror_mode": {
    "name": "ipython",
    "version": 3
   },
   "file_extension": ".py",
   "mimetype": "text/x-python",
   "name": "python",
   "nbconvert_exporter": "python",
   "pygments_lexer": "ipython3",
   "version": "3.7.4"
  }
 },
 "nbformat": 4,
 "nbformat_minor": 2
}
